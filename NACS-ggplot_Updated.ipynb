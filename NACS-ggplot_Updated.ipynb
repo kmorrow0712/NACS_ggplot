{
 "cells": [
  {
   "cell_type": "markdown",
   "metadata": {},
   "source": [
    "## Here's a fast and dirty demo/tutorial for using ggplot to create some nice plots! \n",
    "\n",
    "We're going to do some basic stuff so that everyone is comfortable."
   ]
  },
  {
   "cell_type": "markdown",
   "metadata": {},
   "source": [
    "### Set up your environment\n",
    "\n",
    "Tell R which libraries you need to get started. These should all run here, but if using your own R environment you may have to install any libraries not previously installed. If you find they aren't running, uncomment the `install.packages` line. \n",
    "\n",
    "\n",
    "Normally I would import and transform my data here, but for the sake of time we're using pre-loaded datasets today. \n"
   ]
  },
  {
   "cell_type": "code",
   "execution_count": null,
   "metadata": {},
   "outputs": [],
   "source": [
    "# Libraries\n",
    "\n",
    "# install.packages(\"ggplot2\")\n",
    "\n",
    "library(ggplot2)\n",
    "\n",
    "# Load iris dataset\n",
    "\n",
    "data(iris)   \n",
    "\n",
    "head(iris)  # peak at first few rows of data"
   ]
  },
  {
   "cell_type": "markdown",
   "metadata": {},
   "source": [
    "Let's get a quick summary of our dataset using the `summary()` function. We'll get some descriptives for continuous variables and counts for discrete, categorical variables. "
   ]
  },
  {
   "cell_type": "code",
   "execution_count": null,
   "metadata": {},
   "outputs": [],
   "source": [
    "summary(iris)"
   ]
  },
  {
   "cell_type": "markdown",
   "metadata": {},
   "source": [
    "## Setting up ggplot\n",
    "\n",
    "#First we need to specify which dataset we would like to graph and what variables to use for the X and Y axes.\n",
    "\n",
    "The code will follow this format: \n",
    "`ggplot(DATASET, aes(x = XVARIABLE, y = YVARIABLE))`\n",
    "\n",
    "This can get more complicated as we create different plots or want to sort our data by specifics values, etc, but for now we'll keep it simple. \n",
    "\n",
    "\n",
    "Below I've told ggplot I want to plot petal length vs. petal width"
   ]
  },
  {
   "cell_type": "code",
   "execution_count": null,
   "metadata": {},
   "outputs": [],
   "source": [
    "ggplot(iris, aes(x = Petal.Length, y = Petal.Width))"
   ]
  },
  {
   "cell_type": "markdown",
   "metadata": {},
   "source": [
    "### Okay... but it's empty?\n",
    "\n",
    "ggplot doesn't make any assumptions about *how* you want to plot your data. We need to specify using a geom. \n",
    "\n",
    "Because we have two continuous variables, let's look at a scatter plot using `geom_point()`"
   ]
  },
  {
   "cell_type": "code",
   "execution_count": null,
   "metadata": {},
   "outputs": [],
   "source": [
    "ggplot(iris, aes(x = Petal.Length, y = Petal.Width)) +\n",
    "geom_point()"
   ]
  },
  {
   "cell_type": "markdown",
   "metadata": {},
   "source": [
    "Looks like a strong positive linear relationship between petal length and width -- not surprising. But what about the cluster that is smallest, is there information missing that might make this clearer?\n",
    "\n",
    "We can add an **aesthetic** to the geom, telling ggplot to color the data points based on their Species"
   ]
  },
  {
   "cell_type": "code",
   "execution_count": null,
   "metadata": {},
   "outputs": [],
   "source": [
    "ggplot(iris, aes(x = Petal.Length, y = Petal.Width)) +\n",
    "geom_point(aes(color = Species)) "
   ]
  },
  {
   "cell_type": "markdown",
   "metadata": {},
   "source": [
    "So with two lines of code we have a decent looking graph that gives you a sense of your data. But there is so much more we can do to make it look nicer and more presentable. \n",
    "\n",
    "Let's first rename our axes and add a title. "
   ]
  },
  {
   "cell_type": "code",
   "execution_count": null,
   "metadata": {},
   "outputs": [],
   "source": [
    "ggplot(iris, aes(x = Petal.Length, y = Petal.Width)) +\n",
    "geom_point(aes(color = Species)) +\n",
    "labs(title = \"Petal Length and Width by Iris Species\",\n",
    "    x = \"Petal Length (cm)\",\n",
    "    y = \"Petal Width (cm)\")\n"
   ]
  },
  {
   "cell_type": "markdown",
   "metadata": {},
   "source": [
    "It's generally poor practice to have different numbers of decimal places on the same graph, let's change that.\n",
    "\n",
    "Because X is an **aesthetic** of the graph, we can control how it is mapped using the `scale_<aesthetic>_<type>` scheme. \n",
    "\n",
    "(Don't worry too much about the rounding process, it's just a simple function telling ggplot to round X to 1 decimal place.)"
   ]
  },
  {
   "cell_type": "code",
   "execution_count": null,
   "metadata": {},
   "outputs": [],
   "source": [
    "ggplot(iris, aes(x = Petal.Length, y = Petal.Width)) +\n",
    "geom_point(aes(color = Species)) +\n",
    "labs(title = \"Petal Length and Width by Iris Species\",\n",
    "    x = \"Petal Length (cm)\",\n",
    "    y = \"Petal Width (cm)\") +\n",
    "scale_x_continuous(labels=function(x){sprintf(\"%.1f\", x)}) \n"
   ]
  },
  {
   "cell_type": "markdown",
   "metadata": {},
   "source": [
    "A lot of times we want to specify the colors of our points, not just use ggplot presets. \n",
    "\n",
    "We can do this again using the `scale_<aes>_<type>` format again, which allows us to change a lot of aspects about that specific aesthetic. Let's knock out two birds with one code and change the legend labels *and* colors.\n",
    "\n",
    "ggplot takes both hex codes and characters for colors. "
   ]
  },
  {
   "cell_type": "code",
   "execution_count": null,
   "metadata": {},
   "outputs": [],
   "source": [
    "ggplot(iris, aes(x = Petal.Length, y = Petal.Width)) +\n",
    "geom_point(aes(color = Species)) +\n",
    "scale_color_manual(values = c(\"setosa\" = \"yellow\", \n",
    "                              \"versicolor\" = \"#FF5733\", \n",
    "                              \"virginica\" = \"#900C3F\"),\n",
    "                   labels = c(\"iris setosa\", \n",
    "                              \"iris versicolor\",\n",
    "                              \"iris virginica\")) +\n",
    "labs(title = \"Petal Length and Width by Iris Species\",\n",
    "    x = \"Petal Length (cm)\",\n",
    "    y = \"Petal Width (cm)\") +\n",
    "scale_x_continuous(labels=function(x){sprintf(\"%.1f\", x)})  "
   ]
  },
  {
   "cell_type": "code",
   "execution_count": null,
   "metadata": {},
   "outputs": [],
   "source": [
    "# We could also alter the shape, size, and transparency used for each species \n",
    "#(this might be a little overkill for these data specifically)\n",
    "\n",
    "\n",
    "\n",
    "ggplot(iris, aes(x = Petal.Length, y = Petal.Width)) +\n",
    "geom_point(aes(color = Species,\n",
    "               shape = Species),\n",
    "          size = 2,\n",
    "          alpha = .75) +\n",
    "scale_color_manual(values = c(\"setosa\" = \"yellow\", \n",
    "                              \"versicolor\" = \"#FF5733\", \n",
    "                              \"virginica\" = \"#900C3F\"),\n",
    "                   labels = c(\"Setosa\", \n",
    "                              \"Versicolor\",\n",
    "                              \"Virginica\")) +\n",
    "labs(title = \"Petal Length and Width by Iris Species\",\n",
    "    x = \"Petal Length (cm)\",\n",
    "    y = \"Petal Width (cm)\") +\n",
    "scale_x_continuous(labels=function(x){sprintf(\"%.1f\", x)})  "
   ]
  },
  {
   "cell_type": "markdown",
   "metadata": {},
   "source": [
    "### Now we have two legends! Crap. \n",
    "\n",
    "This was a giant source of frustration when I started using ggplot. It creates a legend for every aesthetic. We can get rid of the second legend a few ways:\n",
    "\n",
    "1. Create another `scale_<aes>_<type>` line for shape and have the values match the `scale_color_manual` values exactly.\n",
    "\n",
    "2. Use the `guides()` line and tell it to hide the shapes legend\n",
    "\n",
    "We'll use #2 because it's shortest and we're not really looking to specify anything else about the shapes. "
   ]
  },
  {
   "cell_type": "code",
   "execution_count": null,
   "metadata": {},
   "outputs": [],
   "source": [
    "ggplot(iris, aes(x = Petal.Length, y = Petal.Width)) +\n",
    "geom_point(aes(color = Species,\n",
    "               shape = Species),\n",
    "          size = 2.5,\n",
    "          alpha = 0.75) +\n",
    "guides(shape = FALSE) +\n",
    "scale_color_manual(values = c(\"setosa\" = \"yellow\", \n",
    "                              \"versicolor\" = \"#FF5733\", \n",
    "                              \"virginica\" = \"#900C3F\"),\n",
    "                   labels = c(\"Setosa\", \n",
    "                              \"Versicolor\",\n",
    "                              \"Virginica\")) +\n",
    "labs(title = \"Petal Length and Width by Iris Species\",\n",
    "    x = \"Petal Length (cm)\",\n",
    "    y = \"Petal Width (cm)\") +\n",
    "scale_x_continuous(labels=function(x){sprintf(\"%.1f\", x)}) "
   ]
  },
  {
   "cell_type": "markdown",
   "metadata": {},
   "source": [
    "### Our geom is looking pretty sweet now, but there are some features of the legend and graph itself that could be better. \n",
    "\n",
    "There are a million things you can change with ggplot, but we'll start simple.\n",
    "\n",
    "### Let's start by changing the preset theme to another built-in theme:\n",
    "\n",
    "The light theme (`theme_light()`) is a good option to start with"
   ]
  },
  {
   "cell_type": "code",
   "execution_count": null,
   "metadata": {},
   "outputs": [],
   "source": [
    "ggplot(iris, aes(x = Petal.Length, y = Petal.Width)) +\n",
    "geom_point(aes(color = Species,\n",
    "               shape = Species),\n",
    "          size = 2.5,\n",
    "          alpha = 0.75) +\n",
    "guides(shape = FALSE) +\n",
    "scale_color_manual(values = c(\"setosa\" = \"yellow\", \n",
    "                              \"versicolor\" = \"#FF5733\", \n",
    "                              \"virginica\" = \"#900C3F\"),\n",
    "           labels = c(\"Iris setosa\", \n",
    "                              \"Iris versicolor\",\n",
    "                              \"Iris virginica\")) +\n",
    "labs(title = \"Petal Length and Width by Iris Species\",\n",
    "    x = \"Petal Length (cm)\",\n",
    "    y = \"Petal Width (cm)\") +\n",
    "scale_x_continuous(labels=function(x){sprintf(\"%.1f\", x)}) +\n",
    "theme_light()\n",
    "\n"
   ]
  },
  {
   "cell_type": "markdown",
   "metadata": {},
   "source": [
    "### We can also create a custom theme and/or change elements of the theme we don't like using `theme()`. \n",
    "\n",
    "In doing so, we can change almost any aspect of the plot (there are a bunch of online guides for this). \n",
    "\n",
    "Let's start by:\n",
    "\n",
    "1. Centering the title\n",
    "2. Changing the axis text\n",
    "3. Changing the legend text\n",
    "4. Outlining the legend"
   ]
  },
  {
   "cell_type": "code",
   "execution_count": null,
   "metadata": {},
   "outputs": [],
   "source": [
    "ggplot(iris, aes(x = Petal.Length, y = Petal.Width)) +\n",
    "geom_point(aes(color = Species,\n",
    "               shape = Species),\n",
    "          size = 2.5,\n",
    "          alpha = 0.75) +\n",
    "guides(shape = FALSE) +\n",
    "scale_color_manual(values = c(\"setosa\" = \"yellow\", \n",
    "                              \"versicolor\" = \"#FF5733\", \n",
    "                              \"virginica\" = \"#900C3F\"),\n",
    "                   labels = c(\"Iris setosa\", \n",
    "                              \"Iris versicolor\",\n",
    "                              \"Iris virginica\")) +\n",
    "labs(title = \"Petal Length and Width by Iris Species\",\n",
    "    x = \"Petal Length (cm)\",\n",
    "    y = \"Petal Width (cm)\") +\n",
    "scale_x_continuous(labels=function(x){sprintf(\"%.1f\", x)}) +\n",
    "theme_light() +\n",
    "theme(\n",
    "plot.title = element_text(hjust = 0.5, face = \"bold\"),             # Center & bold plot title\n",
    "legend.title = element_text(face = \"bold\", size = 9, hjust = 0.5), # Bold and center legend title\n",
    "axis.title = element_text(face = \"bold\"),                          # Bold axes titles\n",
    "legend.box.background = element_rect(colour = \"black\"),            # Put a box around the legend\n",
    "legend.text = element_text(face = \"italic\"))                       # Italicize the legend text"
   ]
  },
  {
   "cell_type": "markdown",
   "metadata": {},
   "source": [
    "## And now... We save!\n",
    "\n",
    "Need a specific dpi? file type? size? ggplot has your back. \n",
    "\n",
    "First we'll save the plot as a variable and then call upon `ggsave`\n",
    "\n",
    "### **WARNING:** Always check your output file, do not assume it will look like R's preview image!\n"
   ]
  },
  {
   "cell_type": "markdown",
   "metadata": {},
   "source": [
    "### Save to a variable\n",
    "\n",
    "I always save this part until the end so that R automatically generates previews as I add to my graph. If you assign to a variable, you will have to call upon that variable to generate the plot. \n",
    "\n",
    "An aside: Some people like to work like this in a way by assigning the data specification to a variable and adding to it (I don't). \n",
    "\n",
    "For example: \n",
    "\n",
    "\n",
    "    plot <- ggplot(data, aes(x = x, y = y))\n",
    "    \n",
    "    # and to add:\n",
    "    plot + geom_point()`"
   ]
  },
  {
   "cell_type": "code",
   "execution_count": null,
   "metadata": {},
   "outputs": [],
   "source": [
    "iris.plot <- ggplot(iris, aes(x = Petal.Length, y = Petal.Width)) +\n",
    "geom_point(aes(color = Species,\n",
    "               shape = Species),\n",
    "          size = 2.5,\n",
    "          alpha = 0.75) +\n",
    "guides(shape = FALSE) +\n",
    "scale_color_manual(values = c(\"setosa\" = \"yellow\", \n",
    "                              \"versicolor\" = \"#FF5733\", \n",
    "                              \"virginica\" = \"#900C3F\"),\n",
    "                   labels = c(\"Iris setosa\", \n",
    "                              \"Iris versicolor\",\n",
    "                              \"Iris virginica\")) +\n",
    "labs(title = \"Petal Length and Width by Iris Species\",\n",
    "    x = \"Petal Length (cm)\",\n",
    "    y = \"Petal Width (cm)\") +\n",
    "scale_x_continuous(labels=function(x){sprintf(\"%.1f\", x)}) +\n",
    "theme_light() +\n",
    "theme(\n",
    "plot.title = element_text(hjust = 0.5, face = \"bold\"),\n",
    "legend.title = element_text(face = \"bold\", size = 9, hjust = 0.5),\n",
    "axis.title = element_text(face = \"bold\"),\n",
    "legend.box.background = element_rect(colour = \"black\"),\n",
    "legend.text = element_text(face = \"italic\")) \n"
   ]
  },
  {
   "cell_type": "markdown",
   "metadata": {},
   "source": [
    "And then call upon ggsave in this format: \n",
    "\n",
    "`ggsave(\"FILENAME.png\", DATA, height = X, width = X, unit = \"IN\", dpi = XXX)`"
   ]
  },
  {
   "cell_type": "code",
   "execution_count": null,
   "metadata": {},
   "outputs": [],
   "source": [
    "ggsave(\"iris_plot.png\", iris.plot, heigh = 3, width = 3, unit = \"in\", dpi = 300)"
   ]
  },
  {
   "cell_type": "markdown",
   "metadata": {},
   "source": [
    "## The iris dataset is nice -- it's small and it makes sense. Rarely does this happen in the real world. \n",
    "As scientists, we're more accustom to looking at large, unwieldy datasets. \n",
    "\n",
    "The diamonds dataset is not a terrible dataset, but it's huge (50,000+ data points). Let's load it in and play around with it. "
   ]
  },
  {
   "cell_type": "code",
   "execution_count": null,
   "metadata": {},
   "outputs": [],
   "source": [
    "data(diamonds)\n",
    "summary(diamonds)\n",
    "head(diamonds)"
   ]
  },
  {
   "cell_type": "markdown",
   "metadata": {},
   "source": [
    "### Our data set up scheme is the same, we're just adding in a different dataset and variables. "
   ]
  },
  {
   "cell_type": "code",
   "execution_count": null,
   "metadata": {},
   "outputs": [],
   "source": [
    "ggplot(diamonds, aes( x = carat, y = price)) +\n",
    "geom_point()\n",
    "\n"
   ]
  },
  {
   "cell_type": "markdown",
   "metadata": {},
   "source": [
    "### Yeah, that's a lot of data...\n",
    "\n",
    "Maybe if we add another dimension to the plot we can get a clearer picture of what impacts diamond pricing. \n",
    "\n",
    "We can do this using `facet_grid()` which generates mutliple plots, separating the data by a specified variable.\n",
    "\n",
    "Let's look at whether diamond color impacts pricing (I also added color as an aesthetic because why not). "
   ]
  },
  {
   "cell_type": "code",
   "execution_count": null,
   "metadata": {
    "scrolled": true
   },
   "outputs": [],
   "source": [
    "ggplot(diamonds, aes( x = carat, y = price)) +\n",
    "geom_point(aes(color = color)) +\n",
    "facet_grid(color ~ .)"
   ]
  },
  {
   "cell_type": "markdown",
   "metadata": {},
   "source": [
    "We can also add a regression model to each one of these facets easily. \n",
    "\n",
    "For now we'll use a simple linear model, but there are a lot of other models available beyond the scope of this little tutorial. \n",
    "\n",
    "\n",
    "Let's also get rid of the legend generated for `color` using the `guides()` line"
   ]
  },
  {
   "cell_type": "code",
   "execution_count": null,
   "metadata": {
    "scrolled": true
   },
   "outputs": [],
   "source": [
    "ggplot(diamonds, aes( x = carat, y = price)) +\n",
    "geom_point(aes(color = color)) +\n",
    "stat_smooth(method = \"lm\", se = FALSE, color = \"black\") +\n",
    "facet_grid(color ~ .) +\n",
    "guides(color = FALSE)"
   ]
  },
  {
   "cell_type": "markdown",
   "metadata": {},
   "source": [
    "### Looking at distributions\n",
    "\n",
    "If you're more interested in the distribution of your data, there are a few options. First we'll create a plot using my favorite method, density ridges. \n",
    "\n",
    "`ggridges` is an excellent package to generate pretty distribution plots. \n",
    "\n",
    "We'll use ggrdiges to look at the distribution of pricing varies by a diamond's cut.\n"
   ]
  },
  {
   "cell_type": "code",
   "execution_count": null,
   "metadata": {},
   "outputs": [],
   "source": [
    "install.packages(\"ggridges\")\n",
    "library(ggridges)\n",
    "\n",
    "\n",
    "ggplot(diamonds, aes(x = price, y = cut, fill = cut)) +\n",
    "  stat_density_ridges(scale = 3,                # change how compact the curves are\n",
    "                      alpha = 0.85,             # create a bit of transparency\n",
    "                      quantiles = 2,            # separate into 2 quantiles to show the mean\n",
    "                      quantile_lines = TRUE,    # show the quantile lines\n",
    "                      size = 1) +               # change the thickness of the distribution plots\n",
    "guides(fill = FALSE) +\n",
    "  theme_ridges()                                # use ggridge's theme because it's nice"
   ]
  },
  {
   "cell_type": "markdown",
   "metadata": {},
   "source": [
    "We can also look at the distribution using a violin plot and easily add in quartiles and means. \n",
    "\n",
    "I took the liberty to change the theme to `theme_bw()` and flip the coordinates `coord_flip()`\n",
    "\n",
    "Again, I removed the pesky legends generated for the fill and color aesthetics. "
   ]
  },
  {
   "cell_type": "code",
   "execution_count": null,
   "metadata": {},
   "outputs": [],
   "source": [
    "# We can also add some summary info, like quartiles and means quickly\n",
    "# and also remove legends that aren't needed -- you can comment out the guides line and see what happens!\n",
    "\n",
    "ggplot(diamonds, aes(x = cut, y = price, color = cut, fill = cut)) +\n",
    "geom_violin(draw_quantiles = c(0.25, 0.5, 0.75),\n",
    "           size = 1,\n",
    "           alpha = 0.75) +\n",
    "stat_summary(fun.y=mean, geom='point', color = \"black\") +\n",
    "guides(fill = FALSE, color = FALSE) +\n",
    "theme_bw() + \n",
    "coord_flip()"
   ]
  },
  {
   "cell_type": "markdown",
   "metadata": {},
   "source": [
    "### Now we can mess around with the theme.\n",
    "\n",
    "I've commented out some `theme()` lines that will change different elements of the plot. Trying playing around with them and see how the plot changes!\n",
    "\n",
    "I couldn't possibly go through all of them, and it's a Friday evening, so I'll point you to Google for a complete list of `theme()` options"
   ]
  },
  {
   "cell_type": "code",
   "execution_count": null,
   "metadata": {},
   "outputs": [],
   "source": [
    "ggplot(diamonds, aes(x = cut, y = price, color = cut, fill = cut)) +\n",
    "geom_violin(draw_quantiles = c(0.25, 0.5, 0.75),\n",
    "           size = 1,\n",
    "           alpha = 0.75) +\n",
    "stat_summary(fun.y=mean, geom='point', color = \"black\") +\n",
    "guides(fill = FALSE, color = FALSE) +\n",
    "coord_flip() +\n",
    "theme_bw() + \n",
    "theme(\n",
    "  #  panel.border = element_rect(fill = NA, size = 1),   # change plot border style\n",
    "  #  panel.background = element_rect(fill = \"black\"),    # change plot background color\n",
    "  #  panel.grid.major.y = element_blank(),               # uncomment to remove y axis grid lines\n",
    "  #  panel.grid.major.x = element_line(size = .75),      # change the size of major X grid\n",
    "  #  panel.grid.minor.x = element_line(size = .5, linetype = 3),   # change size & type of minor X grid \n",
    "  #  axis.text = element_text(size = 7, face = \"bold\"),                 # change all axis text face and size\n",
    "  #  axis.title = element_text(size = 10, face = \"bold\", hjust = 1),    # change axis titles\n",
    "  #  axis.ticks = element_line(size = .2)                               # change axis tick marks\n",
    "\n",
    "\n",
    "\n",
    "\n",
    ")\n",
    "\n"
   ]
  },
  {
   "cell_type": "markdown",
   "metadata": {},
   "source": [
    "## Bonus fun!\n",
    "\n",
    "The `ggthemes` package has some fun and useful pre-built themes.\n",
    "\n",
    "For instance, if your PI really wanted your plot to look like it's directly out of the Economist -- there's a theme for that. I won't ask questions, you shouldn't either. "
   ]
  },
  {
   "cell_type": "code",
   "execution_count": null,
   "metadata": {
    "scrolled": true
   },
   "outputs": [],
   "source": [
    "install.packages(\"ggthemes\")\n",
    "library(ggthemes)\n",
    "\n",
    "ggplot(diamonds, aes(x = cut, y = price, color = cut, fill = cut)) +\n",
    "geom_violin(draw_quantiles = c(0.25, 0.5, 0.75),\n",
    "           size = 1,\n",
    "           alpha = 0.75) +\n",
    "stat_summary(fun.y=mean, geom='point', color = \"black\") +\n",
    "guides(fill = FALSE, color = FALSE) +\n",
    "coord_flip() +\n",
    "#theme_economist() \n",
    "theme_tufte()\n",
    "#theme_few()\n",
    "#theme_gdocs()\n",
    "#theme_excel()\n"
   ]
  },
  {
   "cell_type": "markdown",
   "metadata": {},
   "source": [
    "### Take away points: \n",
    "\n",
    "It's easy to create pretty plots in a relatively short amount of time once you get used to ggplot syntax. \n",
    "\n",
    "Google is your friend while you learn.\n",
    "\n",
    "Don't make your plots *too* nice or you'll have to make them for your entire lab!\n",
    "\n"
   ]
  },
  {
   "cell_type": "markdown",
   "metadata": {},
   "source": [
    "## Resources:\n",
    "\n",
    "### Online course: http://r-statistics.co/Complete-Ggplot2-Tutorial-Part1-With-R-Code.html\n",
    "\n",
    "### R-graph gallery for inspiration (and code): https://www.r-graph-gallery.com/\n",
    "\n",
    "### ggplot cheatsheet: https://rstudio.com/wp-content/uploads/2015/03/ggplot2-cheatsheet.pdf\n",
    "\n",
    "### Tidyverse/CRAN info pages: https://ggplot2.tidyverse.org\n",
    "\n",
    "### Stackoverflow + Google (probably the most helpful resource)\n"
   ]
  },
  {
   "cell_type": "code",
   "execution_count": null,
   "metadata": {},
   "outputs": [],
   "source": []
  }
 ],
 "metadata": {
  "kernelspec": {
   "display_name": "R",
   "language": "R",
   "name": "ir"
  },
  "language_info": {
   "codemirror_mode": "r",
   "file_extension": ".r",
   "mimetype": "text/x-r-source",
   "name": "R",
   "pygments_lexer": "r",
   "version": "3.6.1"
  }
 },
 "nbformat": 4,
 "nbformat_minor": 2
}
